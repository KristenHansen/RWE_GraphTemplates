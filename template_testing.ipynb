{
  "nbformat": 4,
  "nbformat_minor": 0,
  "metadata": {
    "colab": {
      "provenance": [],
      "include_colab_link": true
    },
    "kernelspec": {
      "name": "ir",
      "display_name": "R"
    },
    "language_info": {
      "name": "R"
    }
  },
  "cells": [
    {
      "cell_type": "markdown",
      "metadata": {
        "id": "view-in-github",
        "colab_type": "text"
      },
      "source": [
        "<a href=\"https://colab.research.google.com/github/KristenHansen/RWE_GraphTemplates/blob/main/template_testing.ipynb\" target=\"_parent\"><img src=\"https://colab.research.google.com/assets/colab-badge.svg\" alt=\"Open In Colab\"/></a>"
      ]
    },
    {
      "cell_type": "code",
      "execution_count": 1,
      "metadata": {
        "id": "2Ko5i8Y-pJHU",
        "colab": {
          "base_uri": "https://localhost:8080/"
        },
        "outputId": "64bc900d-cbbf-41d4-89b8-e30594466bf9"
      },
      "outputs": [
        {
          "output_type": "stream",
          "name": "stderr",
          "text": [
            "Installing package into ‘/usr/local/lib/R/site-library’\n",
            "(as ‘lib’ is unspecified)\n",
            "\n",
            "Installing package into ‘/usr/local/lib/R/site-library’\n",
            "(as ‘lib’ is unspecified)\n",
            "\n"
          ]
        }
      ],
      "source": [
        "install.packages(\"ggplot2\")\n",
        "install.packages(\"extrafont\")\n",
        "library(ggplot2)\n",
        "library(grDevices)\n"
      ]
    },
    {
      "cell_type": "markdown",
      "source": [
        "# Setting a Theme\n",
        "\n",
        "This is the section where you would set the font, size, and all text in the plot, legend, and background of the plotting.\n",
        "\n",
        "## Themes\n",
        "\n",
        "There are many themes for ggplot2.\n",
        "\n",
        "Eight themes are built in to ggplot2 1.1.0:\n",
        "\n",
        "1. theme_grey(), the signature ggplot2 theme with a light grey background and white gridlines\n",
        "\n",
        "2. theme_bw(): a variation on theme_grey() that uses a white background and thin grey grid lines.\n",
        "\n",
        "3. theme_linedraw(): a theme with only black lines of various widths on white backgrounds, reminiscent of a line drawing.\n",
        "\n",
        "4. theme_light(): similar to theme_linedraw() but with light grey lines and axes, to direct more attention towards the data.\n",
        "\n",
        "5. theme_dark(): the dark cousin of theme_light(), with similar line sizes but a dark background. Useful to make thin coloured lines pop out.\n",
        "\n",
        "6. theme_minimal(): a minimalistic theme with no background annotations.\n",
        "\n",
        "7. theme_classic(): a classic-looking theme, with x and y axis lines and no gridlines.\n",
        "\n",
        "8. theme_void(): a completely empty theme.\n",
        "\n",
        "##Legends\n",
        "\n",
        "\n",
        "The legend elements control the appearance of all legends. You can also modify the appearance of individual legends by modifying the same elements in guide_legend() or guide_colourbar().\n",
        "\n",
        "Element\tSetter\tDescription\n",
        "\n",
        "legend.background\telement_rect()\tlegend background\n",
        "legend.key\telement_rect()\tbackground of legend keys\n",
        "legend.key.size\tunit()\tlegend key size\n",
        "legend.key.height\tunit()\tlegend key height\n",
        "legend.key.width\tunit()\tlegend key width\n",
        "legend.margin\tunit()\tlegend margin\n",
        "legend.text\telement_text()\tlegend labels\n",
        "legend.text.align\t0–1\tlegend label alignment (0 = right, 1 = left)\n",
        "legend.title\telement_text()\tlegend name\n",
        "legend.title.align\t0–1\tlegend name alignment (0 = right, 1 = left)\n"
      ],
      "metadata": {
        "id": "IY8CW9k7wRFU"
      }
    },
    {
      "cell_type": "code",
      "source": [
        "library(ggplot2)\n",
        "library(grDevices)\n",
        "\n",
        "\n",
        "## Clean theme example:\n",
        "theme_set(theme_bw())\n",
        "theme_update(\n",
        "  # Text\n",
        "  text = element_text(family = \"sans\"),\n",
        "  # Axes\n",
        "  axis.title = element_text(face = \"bold\", size = 8),\n",
        "  axis.line = element_line(color=\"black\", linewidth = .25),\n",
        "  axis.text.y = element_text(color=\"black\", size = 6),\n",
        "  axis.text.x = element_text(color=\"black\", size = 6),\n",
        "  axis.ticks = element_line(color=\"black\", linewidth = .25),\n",
        "  # Title\n",
        "  plot.title = element_text(face = \"italic\", size = 8),\n",
        "  # Legends\n",
        "  legend.title =  element_blank(),\n",
        "  legend.position = \"bottom\",\n",
        "  legend.text = element_text(size = 5),\n",
        "  legend.key.size = unit(0.4, \"lines\"),\n",
        "  legend.box.spacing = unit(0, \"cm\"),\n",
        "  legend.background = element_rect(fill = \"gray95\"),\n",
        "  # Panel\n",
        "  panel.border = element_blank(),\n",
        "  panel.background = element_rect(fill=\"gray98\"),\n",
        "  panel.grid.major = element_line(color=\"grey90\", linewidth = .25),\n",
        "  panel.grid.minor = element_line(color=\"grey90\", linewidth = .15)\n",
        ")\n",
        "\n",
        "\n",
        "## Margin sizes according to Science formatting requirements\n",
        "# Widths\n",
        "\n",
        "# 1 column = 5.5 cm / 2.25 in\n",
        "cw1 <- 2.25\n",
        "# 2 column = 12 cm / 4.75 in\n",
        "cw2 <- 4.75\n",
        "# 3 column = 18.3 cm / 7.25 in\n",
        "cw3 <- 7.25"
      ],
      "metadata": {
        "id": "77wOukV6sgUi"
      },
      "execution_count": 6,
      "outputs": []
    },
    {
      "cell_type": "code",
      "source": [
        "# Dummy plot"
      ],
      "metadata": {
        "id": "Bquj_uEc8jYk"
      },
      "execution_count": null,
      "outputs": []
    },
    {
      "cell_type": "markdown",
      "source": [
        "# Figure Saving\n",
        "\n",
        "In order to save a ggplot you need the ggsave function and you can save with any device of your choosing, such as svg or png as follows"
      ],
      "metadata": {
        "id": "V2wtOY-KpYgU"
      }
    },
    {
      "cell_type": "code",
      "source": [
        "ggsave(plot1,\n",
        "filename = \"filename.svg\",\n",
        "device = c(\"svg\", \"png\", \"pdf\"),\n",
        "width = cw2,\n",
        "height = cw2,\n",
        "#dpi = 300\n",
        ")"
      ],
      "metadata": {
        "id": "buBiLnotuxFX"
      },
      "execution_count": null,
      "outputs": []
    },
    {
      "cell_type": "markdown",
      "source": [
        "If you are using the png device you need to specify the dpi (dots per linear inch). This is generally 300 for journals as they require high resolution figure creation."
      ],
      "metadata": {
        "id": "ICOe01gqvgMN"
      }
    },
    {
      "cell_type": "markdown",
      "source": [
        "#R Color Brewer and Palettes"
      ],
      "metadata": {
        "id": "M9ZE_kyt4WbS"
      }
    },
    {
      "cell_type": "code",
      "source": [
        "install.packages(\"RColorBrewer\")\n",
        "library(RColorBrewer)\n",
        "par(mar=c(3,4,2,2))\n",
        "display.brewer.all()"
      ],
      "metadata": {
        "id": "J0-fxINt4Yxi"
      },
      "execution_count": null,
      "outputs": []
    },
    {
      "cell_type": "markdown",
      "source": [
        "#Colors\n",
        "\n",
        "If you would prefer to assign your own color palette there are a variety of ways to do so with hex codes as well as scales within ggplot2 plotting function.\n",
        "\n",
        "Below are displayed of a few ways to do so."
      ],
      "metadata": {
        "id": "efzdlpqY4qYu"
      }
    },
    {
      "cell_type": "code",
      "source": [],
      "metadata": {
        "id": "wqpmUvGM4p84"
      },
      "execution_count": null,
      "outputs": []
    }
  ]
}